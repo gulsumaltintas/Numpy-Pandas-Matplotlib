{
  "nbformat": 4,
  "nbformat_minor": 0,
  "metadata": {
    "colab": {
      "provenance": [],
      "authorship_tag": "ABX9TyOZPzw9xaeSIJw//zbaiVtw",
      "include_colab_link": true
    },
    "kernelspec": {
      "name": "python3",
      "display_name": "Python 3"
    },
    "language_info": {
      "name": "python"
    }
  },
  "cells": [
    {
      "cell_type": "markdown",
      "metadata": {
        "id": "view-in-github",
        "colab_type": "text"
      },
      "source": [
        "<a href=\"https://colab.research.google.com/github/gulsumaltintas/Numpy-Pandas-Matplotlib/blob/main/Untitled4.ipynb\" target=\"_parent\"><img src=\"https://colab.research.google.com/assets/colab-badge.svg\" alt=\"Open In Colab\"/></a>"
      ]
    },
    {
      "cell_type": "code",
      "execution_count": null,
      "metadata": {
        "id": "B5UrfkCcFLvF"
      },
      "outputs": [],
      "source": [
        "import numpy as np\n",
        "from matplotlib import pyplot as plt"
      ]
    },
    {
      "cell_type": "code",
      "source": [
        "dizi = np.array([1,2,3,4,5,6])\n",
        "for i in dizi:\n",
        "  print(i)\n",
        "\n",
        "print(dizi[-1:])\n",
        "\n",
        "for indis, i in np.ndenumerate(dizi):\n",
        "  print(indis,i)\n",
        "\n",
        "x = np.array([1,5,9,10])\n",
        "y = np.array([1,4,5,10])\n",
        "\n",
        "plt.plot(x,y,'*:r')\n",
        "plt.show()"
      ],
      "metadata": {
        "colab": {
          "base_uri": "https://localhost:8080/",
          "height": 491
        },
        "id": "gXQhpRRKFN8p",
        "outputId": "bb303da8-d32e-4128-c024-846373099d78"
      },
      "execution_count": null,
      "outputs": [
        {
          "output_type": "stream",
          "name": "stdout",
          "text": [
            "1\n",
            "2\n",
            "3\n",
            "4\n",
            "5\n",
            "6\n",
            "[6]\n",
            "(0,) 1\n",
            "(1,) 2\n",
            "(2,) 3\n",
            "(3,) 4\n",
            "(4,) 5\n",
            "(5,) 6\n"
          ]
        },
        {
          "output_type": "display_data",
          "data": {
            "text/plain": [
              "<Figure size 432x288 with 1 Axes>"
            ],
            "image/png": "[encoded data removed]"
          },
          "metadata": {
            "needs_background": "light"
          }
        }
      ]
    },
    {
      "cell_type": "code",
      "source": [],
      "metadata": {
        "id": "9QYMA2tzFjR9"
      },
      "execution_count": null,
      "outputs": []
    }
  ]
}