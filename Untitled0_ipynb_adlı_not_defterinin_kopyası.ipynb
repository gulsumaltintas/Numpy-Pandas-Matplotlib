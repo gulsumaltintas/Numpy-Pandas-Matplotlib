{
  "nbformat": 4,
  "nbformat_minor": 0,
  "metadata": {
    "colab": {
      "provenance": [],
      "authorship_tag": "ABX9TyO0O9PzxA6u4Ut1XlRgRZI4",
      "include_colab_link": true
    },
    "kernelspec": {
      "name": "python3",
      "display_name": "Python 3"
    },
    "language_info": {
      "name": "python"
    }
  },
  "cells": [
    {
      "cell_type": "markdown",
      "metadata": {
        "id": "view-in-github",
        "colab_type": "text"
      },
      "source": [
        "<a href=\"https://colab.research.google.com/github/gulsumaltintas/Numpy-Pandas-Matplotlib/blob/main/Untitled0_ipynb_adl%C4%B1_not_defterinin_kopyas%C4%B1.ipynb\" target=\"_parent\"><img src=\"https://colab.research.google.com/assets/colab-badge.svg\" alt=\"Open In Colab\"/></a>"
      ]
    },
    {
      "cell_type": "code",
      "execution_count": null,
      "metadata": {
        "id": "P7IiaJOBrJjK"
      },
      "outputs": [],
      "source": [
        "import pandas as pd #pandas kütüphanesi import edildi.Veri işlemesi ve analizi için Python programlama dilinde yazılmış olan bir yazılım kütüphanesidir.\n",
        "import numpy as np  #numpy kütüphanesi import edildi.Dizilerle çalışma yapmak için kullanılan kütüphanedir.\n",
        "import matplotlib.pyplot as plt #matplotlib kütüphanesi import edildi.Veri görselleştirmesinde kullanılan bir kütüphanedir.\n",
        "%matplotlib inline"
      ]
    },
    {
      "cell_type": "code",
      "source": [
        "dF = pd.read_excel(\"pokemon.xlsx\")# excel dosyası okundu.\n",
        "dF\n"
      ],
      "metadata": {
        "id": "gx0m3rPurQOq",
        "colab": {
          "base_uri": "https://localhost:8080/",
          "height": 423
        },
        "outputId": "4374fe47-8918-448c-a3d6-76828ddc8b6d"
      },
      "execution_count": null,
      "outputs": [
        {
          "output_type": "execute_result",
          "data": {
            "text/plain": [
              "       #                   Name   Type 1  Type 2  Total  HP  Attack  Defense  \\\n",
              "0      1              Bulbasaur    Grass  Poison    318  45      49       49   \n",
              "1      2                Ivysaur    Grass  Poison    405  60      62       63   \n",
              "2      3               Venusaur    Grass  Poison    525  80      82       83   \n",
              "3      3  VenusaurMega Venusaur    Grass  Poison    625  80     100      123   \n",
              "4      4             Charmander     Fire     NaN    309  39      52       43   \n",
              "..   ...                    ...      ...     ...    ...  ..     ...      ...   \n",
              "795  719                Diancie     Rock   Fairy    600  50     100      150   \n",
              "796  719    DiancieMega Diancie     Rock   Fairy    700  50     160      110   \n",
              "797  720    HoopaHoopa Confined  Psychic   Ghost    600  80     110       60   \n",
              "798  720     HoopaHoopa Unbound  Psychic    Dark    680  80     160       60   \n",
              "799  721              Volcanion     Fire   Water    600  80     110      120   \n",
              "\n",
              "     Sp. Atk  Sp. Def  Speed  Generation  Legendary  \n",
              "0         65       65     45           1      False  \n",
              "1         80       80     60           1      False  \n",
              "2        100      100     80           1      False  \n",
              "3        122      120     80           1      False  \n",
              "4         60       50     65           1      False  \n",
              "..       ...      ...    ...         ...        ...  \n",
              "795      100      150     50           6       True  \n",
              "796      160      110    110           6       True  \n",
              "797      150      130     70           6       True  \n",
              "798      170      130     80           6       True  \n",
              "799      130       90     70           6       True  \n",
              "\n",
              "[800 rows x 13 columns]"
            ],
            "text/html": [
              "\n",
              "  <div id=\"df-db2f8cd6-a17d-4a96-8e33-977af98c7e42\">\n",
              "    <div class=\"colab-df-container\">\n",
              "      <div>\n",
              "<style scoped>\n",
              "    .dataframe tbody tr th:only-of-type {\n",
              "        vertical-align: middle;\n",
              "    }\n",
              "\n",
              "    .dataframe tbody tr th {\n",
              "        vertical-align: top;\n",
              "    }\n",
              "\n",
              "    .dataframe thead th {\n",
              "        text-align: right;\n",
              "    }\n",
              "</style>\n",
              "<table border=\"1\" class=\"dataframe\">\n",
              "  <thead>\n",
              "    <tr style=\"text-align: right;\">\n",
              "      <th></th>\n",
              "      <th>#</th>\n",
              "      <th>Name</th>\n",
              "      <th>Type 1</th>\n",
              "      <th>Type 2</th>\n",
              "      <th>Total</th>\n",
              "      <th>HP</th>\n",
              "      <th>Attack</th>\n",
              "      <th>Defense</th>\n",
              "      <th>Sp. Atk</th>\n",
              "      <th>Sp. Def</th>\n",
              "      <th>Speed</th>\n",
              "      <th>Generation</th>\n",
              "      <th>Legendary</th>\n",
              "    </tr>\n",
              "  </thead>\n",
              "  <tbody>\n",
              "    <tr>\n",
              "      <th>0</th>\n",
              "      <td>1</td>\n",
              "      <td>Bulbasaur</td>\n",
              "      <td>Grass</td>\n",
              "      <td>Poison</td>\n",
              "      <td>318</td>\n",
              "      <td>45</td>\n",
              "      <td>49</td>\n",
              "      <td>49</td>\n",
              "      <td>65</td>\n",
              "      <td>65</td>\n",
              "      <td>45</td>\n",
              "      <td>1</td>\n",
              "      <td>False</td>\n",
              "    </tr>\n",
              "    <tr>\n",
              "      <th>1</th>\n",
              "      <td>2</td>\n",
              "      <td>Ivysaur</td>\n",
              "      <td>Grass</td>\n",
              "      <td>Poison</td>\n",
              "      <td>405</td>\n",
              "      <td>60</td>\n",
              "      <td>62</td>\n",
              "      <td>63</td>\n",
              "      <td>80</td>\n",
              "      <td>80</td>\n",
              "      <td>60</td>\n",
              "      <td>1</td>\n",
              "      <td>False</td>\n",
              "    </tr>\n",
              "    <tr>\n",
              "      <th>2</th>\n",
              "      <td>3</td>\n",
              "      <td>Venusaur</td>\n",
              "      <td>Grass</td>\n",
              "      <td>Poison</td>\n",
              "      <td>525</td>\n",
              "      <td>80</td>\n",
              "      <td>82</td>\n",
              "      <td>83</td>\n",
              "      <td>100</td>\n",
              "      <td>100</td>\n",
              "      <td>80</td>\n",
              "      <td>1</td>\n",
              "      <td>False</td>\n",
              "    </tr>\n",
              "    <tr>\n",
              "      <th>3</th>\n",
              "      <td>3</td>\n",
              "      <td>VenusaurMega Venusaur</td>\n",
              "      <td>Grass</td>\n",
              "      <td>Poison</td>\n",
              "      <td>625</td>\n",
              "      <td>80</td>\n",
              "      <td>100</td>\n",
              "      <td>123</td>\n",
              "      <td>122</td>\n",
              "      <td>120</td>\n",
              "      <td>80</td>\n",
              "      <td>1</td>\n",
              "      <td>False</td>\n",
              "    </tr>\n",
              "    <tr>\n",
              "      <th>4</th>\n",
              "      <td>4</td>\n",
              "      <td>Charmander</td>\n",
              "      <td>Fire</td>\n",
              "      <td>NaN</td>\n",
              "      <td>309</td>\n",
              "      <td>39</td>\n",
              "      <td>52</td>\n",
              "      <td>43</td>\n",
              "      <td>60</td>\n",
              "      <td>50</td>\n",
              "      <td>65</td>\n",
              "      <td>1</td>\n",
              "      <td>False</td>\n",
              "    </tr>\n",
              "    <tr>\n",
              "      <th>...</th>\n",
              "      <td>...</td>\n",
              "      <td>...</td>\n",
              "      <td>...</td>\n",
              "      <td>...</td>\n",
              "      <td>...</td>\n",
              "      <td>...</td>\n",
              "      <td>...</td>\n",
              "      <td>...</td>\n",
              "      <td>...</td>\n",
              "      <td>...</td>\n",
              "      <td>...</td>\n",
              "      <td>...</td>\n",
              "      <td>...</td>\n",
              "    </tr>\n",
              "    <tr>\n",
              "      <th>795</th>\n",
              "      <td>719</td>\n",
              "      <td>Diancie</td>\n",
              "      <td>Rock</td>\n",
              "      <td>Fairy</td>\n",
              "      <td>600</td>\n",
              "      <td>50</td>\n",
              "      <td>100</td>\n",
              "      <td>150</td>\n",
              "      <td>100</td>\n",
              "      <td>150</td>\n",
              "      <td>50</td>\n",
              "      <td>6</td>\n",
              "      <td>True</td>\n",
              "    </tr>\n",
              "    <tr>\n",
              "      <th>796</th>\n",
              "      <td>719</td>\n",
              "      <td>DiancieMega Diancie</td>\n",
              "      <td>Rock</td>\n",
              "      <td>Fairy</td>\n",
              "      <td>700</td>\n",
              "      <td>50</td>\n",
              "      <td>160</td>\n",
              "      <td>110</td>\n",
              "      <td>160</td>\n",
              "      <td>110</td>\n",
              "      <td>110</td>\n",
              "      <td>6</td>\n",
              "      <td>True</td>\n",
              "    </tr>\n",
              "    <tr>\n",
              "      <th>797</th>\n",
              "      <td>720</td>\n",
              "      <td>HoopaHoopa Confined</td>\n",
              "      <td>Psychic</td>\n",
              "      <td>Ghost</td>\n",
              "      <td>600</td>\n",
              "      <td>80</td>\n",
              "      <td>110</td>\n",
              "      <td>60</td>\n",
              "      <td>150</td>\n",
              "      <td>130</td>\n",
              "      <td>70</td>\n",
              "      <td>6</td>\n",
              "      <td>True</td>\n",
              "    </tr>\n",
              "    <tr>\n",
              "      <th>798</th>\n",
              "      <td>720</td>\n",
              "      <td>HoopaHoopa Unbound</td>\n",
              "      <td>Psychic</td>\n",
              "      <td>Dark</td>\n",
              "      <td>680</td>\n",
              "      <td>80</td>\n",
              "      <td>160</td>\n",
              "      <td>60</td>\n",
              "      <td>170</td>\n",
              "      <td>130</td>\n",
              "      <td>80</td>\n",
              "      <td>6</td>\n",
              "      <td>True</td>\n",
              "    </tr>\n",
              "    <tr>\n",
              "      <th>799</th>\n",
              "      <td>721</td>\n",
              "      <td>Volcanion</td>\n",
              "      <td>Fire</td>\n",
              "      <td>Water</td>\n",
              "      <td>600</td>\n",
              "      <td>80</td>\n",
              "      <td>110</td>\n",
              "      <td>120</td>\n",
              "      <td>130</td>\n",
              "      <td>90</td>\n",
              "      <td>70</td>\n",
              "      <td>6</td>\n",
              "      <td>True</td>\n",
              "    </tr>\n",
              "  </tbody>\n",
              "</table>\n",
              "<p>800 rows × 13 columns</p>\n",
              "</div>\n",
              "      <button class=\"colab-df-convert\" onclick=\"convertToInteractive('df-db2f8cd6-a17d-4a96-8e33-977af98c7e42')\"\n",
              "              title=\"Convert this dataframe to an interactive table.\"\n",
              "              style=\"display:none;\">\n",
              "        \n",
              "  <svg xmlns=\"http://www.w3.org/2000/svg\" height=\"24px\"viewBox=\"0 0 24 24\"\n",
              "       width=\"24px\">\n",
              "    <path d=\"M0 0h24v24H0V0z\" fill=\"none\"/>\n",
              "    <path d=\"M18.56 5.44l.94 2.06.94-2.06 2.06-.94-2.06-.94-.94-2.06-.94 2.06-2.06.94zm-11 1L8.5 8.5l.94-2.06 2.06-.94-2.06-.94L8.5 2.5l-.94 2.06-2.06.94zm10 10l.94 2.06.94-2.06 2.06-.94-2.06-.94-.94-2.06-.94 2.06-2.06.94z\"/><path d=\"M17.41 7.96l-1.37-1.37c-.4-.4-.92-.59-1.43-.59-.52 0-1.04.2-1.43.59L10.3 9.45l-7.72 7.72c-.78.78-.78 2.05 0 2.83L4 21.41c.39.39.9.59 1.41.59.51 0 1.02-.2 1.41-.59l7.78-7.78 2.81-2.81c.8-.78.8-2.07 0-2.86zM5.41 20L4 18.59l7.72-7.72 1.47 1.35L5.41 20z\"/>\n",
              "  </svg>\n",
              "      </button>\n",
              "      \n",
              "  <style>\n",
              "    .colab-df-container {\n",
              "      display:flex;\n",
              "      flex-wrap:wrap;\n",
              "      gap: 12px;\n",
              "    }\n",
              "\n",
              "    .colab-df-convert {\n",
              "      background-color: #E8F0FE;\n",
              "      border: none;\n",
              "      border-radius: 50%;\n",
              "      cursor: pointer;\n",
              "      display: none;\n",
              "      fill: #1967D2;\n",
              "      height: 32px;\n",
              "      padding: 0 0 0 0;\n",
              "      width: 32px;\n",
              "    }\n",
              "\n",
              "    .colab-df-convert:hover {\n",
              "      background-color: #E2EBFA;\n",
              "      box-shadow: 0px 1px 2px rgba(60, 64, 67, 0.3), 0px 1px 3px 1px rgba(60, 64, 67, 0.15);\n",
              "      fill: #174EA6;\n",
              "    }\n",
              "\n",
              "    [theme=dark] .colab-df-convert {\n",
              "      background-color: #3B4455;\n",
              "      fill: #D2E3FC;\n",
              "    }\n",
              "\n",
              "    [theme=dark] .colab-df-convert:hover {\n",
              "      background-color: #434B5C;\n",
              "      box-shadow: 0px 1px 3px 1px rgba(0, 0, 0, 0.15);\n",
              "      filter: drop-shadow(0px 1px 2px rgba(0, 0, 0, 0.3));\n",
              "      fill: #FFFFFF;\n",
              "    }\n",
              "  </style>\n",
              "\n",
              "      <script>\n",
              "        const buttonEl =\n",
              "          document.querySelector('#df-db2f8cd6-a17d-4a96-8e33-977af98c7e42 button.colab-df-convert');\n",
              "        buttonEl.style.display =\n",
              "          google.colab.kernel.accessAllowed ? 'block' : 'none';\n",
              "\n",
              "        async function convertToInteractive(key) {\n",
              "          const element = document.querySelector('#df-db2f8cd6-a17d-4a96-8e33-977af98c7e42');\n",
              "          const dataTable =\n",
              "            await google.colab.kernel.invokeFunction('convertToInteractive',\n",
              "                                                     [key], {});\n",
              "          if (!dataTable) return;\n",
              "\n",
              "          const docLinkHtml = 'Like what you see? Visit the ' +\n",
              "            '<a target=\"_blank\" href=https://colab.research.google.com/notebooks/data_table.ipynb>data table notebook</a>'\n",
              "            + ' to learn more about interactive tables.';\n",
              "          element.innerHTML = '';\n",
              "          dataTable['output_type'] = 'display_data';\n",
              "          await google.colab.output.renderOutput(dataTable, element);\n",
              "          const docLink = document.createElement('div');\n",
              "          docLink.innerHTML = docLinkHtml;\n",
              "          element.appendChild(docLink);\n",
              "        }\n",
              "      </script>\n",
              "    </div>\n",
              "  </div>\n",
              "  "
            ]
          },
          "metadata": {},
          "execution_count": 9
        }
      ]
    },
    {
      "cell_type": "code",
      "source": [
        "#1.Sorgu\n",
        "grupObjesi = dF.groupby(\"Attack\") #Attack sütununa göre veriler gruplandırıldı.\n",
        "grupObjesi.count()"
      ],
      "metadata": {
        "id": "sk4XywSQurv1",
        "colab": {
          "base_uri": "https://localhost:8080/",
          "height": 455
        },
        "outputId": "0cbcc0f9-6d35-4cba-af37-fd45921cea64"
      },
      "execution_count": null,
      "outputs": [
        {
          "output_type": "execute_result",
          "data": {
            "text/plain": [
              "        #  Name  Type 1  Type 2  Total  HP  Defense  Sp. Atk  Sp. Def  Speed  \\\n",
              "Attack                                                                         \n",
              "5       2     2       2       0      2   2        2        2        2      2   \n",
              "10      3     3       3       1      3   3        3        3        3      3   \n",
              "15      1     1       1       0      1   1        1        1        1      1   \n",
              "20      8     8       8       4      8   8        8        8        8      8   \n",
              "22      1     1       1       0      1   1        1        1        1      1   \n",
              "...    ..   ...     ...     ...    ...  ..      ...      ...      ...    ...   \n",
              "165     3     3       3       1      3   3        3        3        3      3   \n",
              "170     2     2       2       2      2   2        2        2        2      2   \n",
              "180     3     3       3       2      3   3        3        3        3      3   \n",
              "185     1     1       1       1      1   1        1        1        1      1   \n",
              "190     1     1       1       1      1   1        1        1        1      1   \n",
              "\n",
              "        Generation  Legendary  \n",
              "Attack                         \n",
              "5                2          2  \n",
              "10               3          3  \n",
              "15               1          1  \n",
              "20               8          8  \n",
              "22               1          1  \n",
              "...            ...        ...  \n",
              "165              3          3  \n",
              "170              2          2  \n",
              "180              3          3  \n",
              "185              1          1  \n",
              "190              1          1  \n",
              "\n",
              "[111 rows x 12 columns]"
            ],
            "text/html": [
              "\n",
              "  <div id=\"df-aeb72613-48b7-4133-9cd8-2d9f4fcccf83\">\n",
              "    <div class=\"colab-df-container\">\n",
              "      <div>\n",
              "<style scoped>\n",
              "    .dataframe tbody tr th:only-of-type {\n",
              "        vertical-align: middle;\n",
              "    }\n",
              "\n",
              "    .dataframe tbody tr th {\n",
              "        vertical-align: top;\n",
              "    }\n",
              "\n",
              "    .dataframe thead th {\n",
              "        text-align: right;\n",
              "    }\n",
              "</style>\n",
              "<table border=\"1\" class=\"dataframe\">\n",
              "  <thead>\n",
              "    <tr style=\"text-align: right;\">\n",
              "      <th></th>\n",
              "      <th>#</th>\n",
              "      <th>Name</th>\n",
              "      <th>Type 1</th>\n",
              "      <th>Type 2</th>\n",
              "      <th>Total</th>\n",
              "      <th>HP</th>\n",
              "      <th>Defense</th>\n",
              "      <th>Sp. Atk</th>\n",
              "      <th>Sp. Def</th>\n",
              "      <th>Speed</th>\n",
              "      <th>Generation</th>\n",
              "      <th>Legendary</th>\n",
              "    </tr>\n",
              "    <tr>\n",
              "      <th>Attack</th>\n",
              "      <th></th>\n",
              "      <th></th>\n",
              "      <th></th>\n",
              "      <th></th>\n",
              "      <th></th>\n",
              "      <th></th>\n",
              "      <th></th>\n",
              "      <th></th>\n",
              "      <th></th>\n",
              "      <th></th>\n",
              "      <th></th>\n",
              "      <th></th>\n",
              "    </tr>\n",
              "  </thead>\n",
              "  <tbody>\n",
              "    <tr>\n",
              "      <th>5</th>\n",
              "      <td>2</td>\n",
              "      <td>2</td>\n",
              "      <td>2</td>\n",
              "      <td>0</td>\n",
              "      <td>2</td>\n",
              "      <td>2</td>\n",
              "      <td>2</td>\n",
              "      <td>2</td>\n",
              "      <td>2</td>\n",
              "      <td>2</td>\n",
              "      <td>2</td>\n",
              "      <td>2</td>\n",
              "    </tr>\n",
              "    <tr>\n",
              "      <th>10</th>\n",
              "      <td>3</td>\n",
              "      <td>3</td>\n",
              "      <td>3</td>\n",
              "      <td>1</td>\n",
              "      <td>3</td>\n",
              "      <td>3</td>\n",
              "      <td>3</td>\n",
              "      <td>3</td>\n",
              "      <td>3</td>\n",
              "      <td>3</td>\n",
              "      <td>3</td>\n",
              "      <td>3</td>\n",
              "    </tr>\n",
              "    <tr>\n",
              "      <th>15</th>\n",
              "      <td>1</td>\n",
              "      <td>1</td>\n",
              "      <td>1</td>\n",
              "      <td>0</td>\n",
              "      <td>1</td>\n",
              "      <td>1</td>\n",
              "      <td>1</td>\n",
              "      <td>1</td>\n",
              "      <td>1</td>\n",
              "      <td>1</td>\n",
              "      <td>1</td>\n",
              "      <td>1</td>\n",
              "    </tr>\n",
              "    <tr>\n",
              "      <th>20</th>\n",
              "      <td>8</td>\n",
              "      <td>8</td>\n",
              "      <td>8</td>\n",
              "      <td>4</td>\n",
              "      <td>8</td>\n",
              "      <td>8</td>\n",
              "      <td>8</td>\n",
              "      <td>8</td>\n",
              "      <td>8</td>\n",
              "      <td>8</td>\n",
              "      <td>8</td>\n",
              "      <td>8</td>\n",
              "    </tr>\n",
              "    <tr>\n",
              "      <th>22</th>\n",
              "      <td>1</td>\n",
              "      <td>1</td>\n",
              "      <td>1</td>\n",
              "      <td>0</td>\n",
              "      <td>1</td>\n",
              "      <td>1</td>\n",
              "      <td>1</td>\n",
              "      <td>1</td>\n",
              "      <td>1</td>\n",
              "      <td>1</td>\n",
              "      <td>1</td>\n",
              "      <td>1</td>\n",
              "    </tr>\n",
              "    <tr>\n",
              "      <th>...</th>\n",
              "      <td>...</td>\n",
              "      <td>...</td>\n",
              "      <td>...</td>\n",
              "      <td>...</td>\n",
              "      <td>...</td>\n",
              "      <td>...</td>\n",
              "      <td>...</td>\n",
              "      <td>...</td>\n",
              "      <td>...</td>\n",
              "      <td>...</td>\n",
              "      <td>...</td>\n",
              "      <td>...</td>\n",
              "    </tr>\n",
              "    <tr>\n",
              "      <th>165</th>\n",
              "      <td>3</td>\n",
              "      <td>3</td>\n",
              "      <td>3</td>\n",
              "      <td>1</td>\n",
              "      <td>3</td>\n",
              "      <td>3</td>\n",
              "      <td>3</td>\n",
              "      <td>3</td>\n",
              "      <td>3</td>\n",
              "      <td>3</td>\n",
              "      <td>3</td>\n",
              "      <td>3</td>\n",
              "    </tr>\n",
              "    <tr>\n",
              "      <th>170</th>\n",
              "      <td>2</td>\n",
              "      <td>2</td>\n",
              "      <td>2</td>\n",
              "      <td>2</td>\n",
              "      <td>2</td>\n",
              "      <td>2</td>\n",
              "      <td>2</td>\n",
              "      <td>2</td>\n",
              "      <td>2</td>\n",
              "      <td>2</td>\n",
              "      <td>2</td>\n",
              "      <td>2</td>\n",
              "    </tr>\n",
              "    <tr>\n",
              "      <th>180</th>\n",
              "      <td>3</td>\n",
              "      <td>3</td>\n",
              "      <td>3</td>\n",
              "      <td>2</td>\n",
              "      <td>3</td>\n",
              "      <td>3</td>\n",
              "      <td>3</td>\n",
              "      <td>3</td>\n",
              "      <td>3</td>\n",
              "      <td>3</td>\n",
              "      <td>3</td>\n",
              "      <td>3</td>\n",
              "    </tr>\n",
              "    <tr>\n",
              "      <th>185</th>\n",
              "      <td>1</td>\n",
              "      <td>1</td>\n",
              "      <td>1</td>\n",
              "      <td>1</td>\n",
              "      <td>1</td>\n",
              "      <td>1</td>\n",
              "      <td>1</td>\n",
              "      <td>1</td>\n",
              "      <td>1</td>\n",
              "      <td>1</td>\n",
              "      <td>1</td>\n",
              "      <td>1</td>\n",
              "    </tr>\n",
              "    <tr>\n",
              "      <th>190</th>\n",
              "      <td>1</td>\n",
              "      <td>1</td>\n",
              "      <td>1</td>\n",
              "      <td>1</td>\n",
              "      <td>1</td>\n",
              "      <td>1</td>\n",
              "      <td>1</td>\n",
              "      <td>1</td>\n",
              "      <td>1</td>\n",
              "      <td>1</td>\n",
              "      <td>1</td>\n",
              "      <td>1</td>\n",
              "    </tr>\n",
              "  </tbody>\n",
              "</table>\n",
              "<p>111 rows × 12 columns</p>\n",
              "</div>\n",
              "      <button class=\"colab-df-convert\" onclick=\"convertToInteractive('df-aeb72613-48b7-4133-9cd8-2d9f4fcccf83')\"\n",
              "              title=\"Convert this dataframe to an interactive table.\"\n",
              "              style=\"display:none;\">\n",
              "        \n",
              "  <svg xmlns=\"http://www.w3.org/2000/svg\" height=\"24px\"viewBox=\"0 0 24 24\"\n",
              "       width=\"24px\">\n",
              "    <path d=\"M0 0h24v24H0V0z\" fill=\"none\"/>\n",
              "    <path d=\"M18.56 5.44l.94 2.06.94-2.06 2.06-.94-2.06-.94-.94-2.06-.94 2.06-2.06.94zm-11 1L8.5 8.5l.94-2.06 2.06-.94-2.06-.94L8.5 2.5l-.94 2.06-2.06.94zm10 10l.94 2.06.94-2.06 2.06-.94-2.06-.94-.94-2.06-.94 2.06-2.06.94z\"/><path d=\"M17.41 7.96l-1.37-1.37c-.4-.4-.92-.59-1.43-.59-.52 0-1.04.2-1.43.59L10.3 9.45l-7.72 7.72c-.78.78-.78 2.05 0 2.83L4 21.41c.39.39.9.59 1.41.59.51 0 1.02-.2 1.41-.59l7.78-7.78 2.81-2.81c.8-.78.8-2.07 0-2.86zM5.41 20L4 18.59l7.72-7.72 1.47 1.35L5.41 20z\"/>\n",
              "  </svg>\n",
              "      </button>\n",
              "      \n",
              "  <style>\n",
              "    .colab-df-container {\n",
              "      display:flex;\n",
              "      flex-wrap:wrap;\n",
              "      gap: 12px;\n",
              "    }\n",
              "\n",
              "    .colab-df-convert {\n",
              "      background-color: #E8F0FE;\n",
              "      border: none;\n",
              "      border-radius: 50%;\n",
              "      cursor: pointer;\n",
              "      display: none;\n",
              "      fill: #1967D2;\n",
              "      height: 32px;\n",
              "      padding: 0 0 0 0;\n",
              "      width: 32px;\n",
              "    }\n",
              "\n",
              "    .colab-df-convert:hover {\n",
              "      background-color: #E2EBFA;\n",
              "      box-shadow: 0px 1px 2px rgba(60, 64, 67, 0.3), 0px 1px 3px 1px rgba(60, 64, 67, 0.15);\n",
              "      fill: #174EA6;\n",
              "    }\n",
              "\n",
              "    [theme=dark] .colab-df-convert {\n",
              "      background-color: #3B4455;\n",
              "      fill: #D2E3FC;\n",
              "    }\n",
              "\n",
              "    [theme=dark] .colab-df-convert:hover {\n",
              "      background-color: #434B5C;\n",
              "      box-shadow: 0px 1px 3px 1px rgba(0, 0, 0, 0.15);\n",
              "      filter: drop-shadow(0px 1px 2px rgba(0, 0, 0, 0.3));\n",
              "      fill: #FFFFFF;\n",
              "    }\n",
              "  </style>\n",
              "\n",
              "      <script>\n",
              "        const buttonEl =\n",
              "          document.querySelector('#df-aeb72613-48b7-4133-9cd8-2d9f4fcccf83 button.colab-df-convert');\n",
              "        buttonEl.style.display =\n",
              "          google.colab.kernel.accessAllowed ? 'block' : 'none';\n",
              "\n",
              "        async function convertToInteractive(key) {\n",
              "          const element = document.querySelector('#df-aeb72613-48b7-4133-9cd8-2d9f4fcccf83');\n",
              "          const dataTable =\n",
              "            await google.colab.kernel.invokeFunction('convertToInteractive',\n",
              "                                                     [key], {});\n",
              "          if (!dataTable) return;\n",
              "\n",
              "          const docLinkHtml = 'Like what you see? Visit the ' +\n",
              "            '<a target=\"_blank\" href=https://colab.research.google.com/notebooks/data_table.ipynb>data table notebook</a>'\n",
              "            + ' to learn more about interactive tables.';\n",
              "          element.innerHTML = '';\n",
              "          dataTable['output_type'] = 'display_data';\n",
              "          await google.colab.output.renderOutput(dataTable, element);\n",
              "          const docLink = document.createElement('div');\n",
              "          docLink.innerHTML = docLinkHtml;\n",
              "          element.appendChild(docLink);\n",
              "        }\n",
              "      </script>\n",
              "    </div>\n",
              "  </div>\n",
              "  "
            ]
          },
          "metadata": {},
          "execution_count": 44
        }
      ]
    },
    {
      "cell_type": "code",
      "source": [
        "#2.Sorgu\n",
        "dF[\"Type 2\"].unique() #Type2 sütunundaki farklı verileri dizi içerisinde yazdırdı."
      ],
      "metadata": {
        "colab": {
          "base_uri": "https://localhost:8080/"
        },
        "id": "lAfn2fz3z9pp",
        "outputId": "6eea83e6-9330-4afc-c1e5-425c3e7cc8ee"
      },
      "execution_count": null,
      "outputs": [
        {
          "output_type": "execute_result",
          "data": {
            "text/plain": [
              "array(['Poison', nan, 'Flying', 'Dragon', 'Ground', 'Fairy', 'Grass',\n",
              "       'Fighting', 'Psychic', 'Steel', 'Ice', 'Rock', 'Dark', 'Water',\n",
              "       'Electric', 'Fire', 'Ghost', 'Bug', 'Normal'], dtype=object)"
            ]
          },
          "metadata": {},
          "execution_count": 45
        }
      ]
    },
    {
      "cell_type": "code",
      "source": [
        "#3.Sorgu\n",
        "dF[\"Type 2\"].nunique() #Type2 sütunundaki farklı olan veri sayısını verdi."
      ],
      "metadata": {
        "colab": {
          "base_uri": "https://localhost:8080/"
        },
        "id": "tldgNSEg3sL0",
        "outputId": "087985fb-7ce4-4844-9e4e-1571936cc3d7"
      },
      "execution_count": null,
      "outputs": [
        {
          "output_type": "execute_result",
          "data": {
            "text/plain": [
              "18"
            ]
          },
          "metadata": {},
          "execution_count": 46
        }
      ]
    },
    {
      "cell_type": "code",
      "source": [
        "#4.Sorgu\n",
        "numpyArray = dF[\"Name\"] #Numpy kütüphanesi kullanılarak Name sütunundaki veriler dizi haline getirildi.\n",
        "numpyArray = np.array(numpyArray)\n",
        "numpyArray\n"
      ],
      "metadata": {
        "id": "2u9usmmd5CNh",
        "colab": {
          "base_uri": "https://localhost:8080/"
        },
        "outputId": "b72b761a-7fdf-4f72-c3ef-0b2e1dd1b4e6"
      },
      "execution_count": null,
      "outputs": [
        {
          "output_type": "execute_result",
          "data": {
            "text/plain": [
              "array(['Bulbasaur', 'Ivysaur', 'Venusaur', 'VenusaurMega Venusaur',\n",
              "       'Charmander', 'Charmeleon', 'Charizard',\n",
              "       'CharizardMega Charizard X', 'CharizardMega Charizard Y',\n",
              "       'Squirtle', 'Wartortle', 'Blastoise', 'BlastoiseMega Blastoise',\n",
              "       'Caterpie', 'Metapod', 'Butterfree', 'Weedle', 'Kakuna',\n",
              "       'Beedrill', 'BeedrillMega Beedrill', 'Pidgey', 'Pidgeotto',\n",
              "       'Pidgeot', 'PidgeotMega Pidgeot', 'Rattata', 'Raticate', 'Spearow',\n",
              "       'Fearow', 'Ekans', 'Arbok', 'Pikachu', 'Raichu', 'Sandshrew',\n",
              "       'Sandslash', 'Nidoran♀', 'Nidorina', 'Nidoqueen', 'Nidoran♂',\n",
              "       'Nidorino', 'Nidoking', 'Clefairy', 'Clefable', 'Vulpix',\n",
              "       'Ninetales', 'Jigglypuff', 'Wigglytuff', 'Zubat', 'Golbat',\n",
              "       'Oddish', 'Gloom', 'Vileplume', 'Paras', 'Parasect', 'Venonat',\n",
              "       'Venomoth', 'Diglett', 'Dugtrio', 'Meowth', 'Persian', 'Psyduck',\n",
              "       'Golduck', 'Mankey', 'Primeape', 'Growlithe', 'Arcanine',\n",
              "       'Poliwag', 'Poliwhirl', 'Poliwrath', 'Abra', 'Kadabra', 'Alakazam',\n",
              "       'AlakazamMega Alakazam', 'Machop', 'Machoke', 'Machamp',\n",
              "       'Bellsprout', 'Weepinbell', 'Victreebel', 'Tentacool',\n",
              "       'Tentacruel', 'Geodude', 'Graveler', 'Golem', 'Ponyta', 'Rapidash',\n",
              "       'Slowpoke', 'Slowbro', 'SlowbroMega Slowbro', 'Magnemite',\n",
              "       'Magneton', \"Farfetch'd\", 'Doduo', 'Dodrio', 'Seel', 'Dewgong',\n",
              "       'Grimer', 'Muk', 'Shellder', 'Cloyster', 'Gastly', 'Haunter',\n",
              "       'Gengar', 'GengarMega Gengar', 'Onix', 'Drowzee', 'Hypno',\n",
              "       'Krabby', 'Kingler', 'Voltorb', 'Electrode', 'Exeggcute',\n",
              "       'Exeggutor', 'Cubone', 'Marowak', 'Hitmonlee', 'Hitmonchan',\n",
              "       'Lickitung', 'Koffing', 'Weezing', 'Rhyhorn', 'Rhydon', 'Chansey',\n",
              "       'Tangela', 'Kangaskhan', 'KangaskhanMega Kangaskhan', 'Horsea',\n",
              "       'Seadra', 'Goldeen', 'Seaking', 'Staryu', 'Starmie', 'Mr. Mime',\n",
              "       'Scyther', 'Jynx', 'Electabuzz', 'Magmar', 'Pinsir',\n",
              "       'PinsirMega Pinsir', 'Tauros', 'Magikarp', 'Gyarados',\n",
              "       'GyaradosMega Gyarados', 'Lapras', 'Ditto', 'Eevee', 'Vaporeon',\n",
              "       'Jolteon', 'Flareon', 'Porygon', 'Omanyte', 'Omastar', 'Kabuto',\n",
              "       'Kabutops', 'Aerodactyl', 'AerodactylMega Aerodactyl', 'Snorlax',\n",
              "       'Articuno', 'Zapdos', 'Moltres', 'Dratini', 'Dragonair',\n",
              "       'Dragonite', 'Mewtwo', 'MewtwoMega Mewtwo X',\n",
              "       'MewtwoMega Mewtwo Y', 'Mew', 'Chikorita', 'Bayleef', 'Meganium',\n",
              "       'Cyndaquil', 'Quilava', 'Typhlosion', 'Totodile', 'Croconaw',\n",
              "       'Feraligatr', 'Sentret', 'Furret', 'Hoothoot', 'Noctowl', 'Ledyba',\n",
              "       'Ledian', 'Spinarak', 'Ariados', 'Crobat', 'Chinchou', 'Lanturn',\n",
              "       'Pichu', 'Cleffa', 'Igglybuff', 'Togepi', 'Togetic', 'Natu',\n",
              "       'Xatu', 'Mareep', 'Flaaffy', 'Ampharos', 'AmpharosMega Ampharos',\n",
              "       'Bellossom', 'Marill', 'Azumarill', 'Sudowoodo', 'Politoed',\n",
              "       'Hoppip', 'Skiploom', 'Jumpluff', 'Aipom', 'Sunkern', 'Sunflora',\n",
              "       'Yanma', 'Wooper', 'Quagsire', 'Espeon', 'Umbreon', 'Murkrow',\n",
              "       'Slowking', 'Misdreavus', 'Unown', 'Wobbuffet', 'Girafarig',\n",
              "       'Pineco', 'Forretress', 'Dunsparce', 'Gligar', 'Steelix',\n",
              "       'SteelixMega Steelix', 'Snubbull', 'Granbull', 'Qwilfish',\n",
              "       'Scizor', 'ScizorMega Scizor', 'Shuckle', 'Heracross',\n",
              "       'HeracrossMega Heracross', 'Sneasel', 'Teddiursa', 'Ursaring',\n",
              "       'Slugma', 'Magcargo', 'Swinub', 'Piloswine', 'Corsola', 'Remoraid',\n",
              "       'Octillery', 'Delibird', 'Mantine', 'Skarmory', 'Houndour',\n",
              "       'Houndoom', 'HoundoomMega Houndoom', 'Kingdra', 'Phanpy',\n",
              "       'Donphan', 'Porygon2', 'Stantler', 'Smeargle', 'Tyrogue',\n",
              "       'Hitmontop', 'Smoochum', 'Elekid', 'Magby', 'Miltank', 'Blissey',\n",
              "       'Raikou', 'Entei', 'Suicune', 'Larvitar', 'Pupitar', 'Tyranitar',\n",
              "       'TyranitarMega Tyranitar', 'Lugia', 'Ho-oh', 'Celebi', 'Treecko',\n",
              "       'Grovyle', 'Sceptile', 'SceptileMega Sceptile', 'Torchic',\n",
              "       'Combusken', 'Blaziken', 'BlazikenMega Blaziken', 'Mudkip',\n",
              "       'Marshtomp', 'Swampert', 'SwampertMega Swampert', 'Poochyena',\n",
              "       'Mightyena', 'Zigzagoon', 'Linoone', 'Wurmple', 'Silcoon',\n",
              "       'Beautifly', 'Cascoon', 'Dustox', 'Lotad', 'Lombre', 'Ludicolo',\n",
              "       'Seedot', 'Nuzleaf', 'Shiftry', 'Taillow', 'Swellow', 'Wingull',\n",
              "       'Pelipper', 'Ralts', 'Kirlia', 'Gardevoir',\n",
              "       'GardevoirMega Gardevoir', 'Surskit', 'Masquerain', 'Shroomish',\n",
              "       'Breloom', 'Slakoth', 'Vigoroth', 'Slaking', 'Nincada', 'Ninjask',\n",
              "       'Shedinja', 'Whismur', 'Loudred', 'Exploud', 'Makuhita',\n",
              "       'Hariyama', 'Azurill', 'Nosepass', 'Skitty', 'Delcatty', 'Sableye',\n",
              "       'SableyeMega Sableye', 'Mawile', 'MawileMega Mawile', 'Aron',\n",
              "       'Lairon', 'Aggron', 'AggronMega Aggron', 'Meditite', 'Medicham',\n",
              "       'MedichamMega Medicham', 'Electrike', 'Manectric',\n",
              "       'ManectricMega Manectric', 'Plusle', 'Minun', 'Volbeat',\n",
              "       'Illumise', 'Roselia', 'Gulpin', 'Swalot', 'Carvanha', 'Sharpedo',\n",
              "       'SharpedoMega Sharpedo', 'Wailmer', 'Wailord', 'Numel', 'Camerupt',\n",
              "       'CameruptMega Camerupt', 'Torkoal', 'Spoink', 'Grumpig', 'Spinda',\n",
              "       'Trapinch', 'Vibrava', 'Flygon', 'Cacnea', 'Cacturne', 'Swablu',\n",
              "       'Altaria', 'AltariaMega Altaria', 'Zangoose', 'Seviper',\n",
              "       'Lunatone', 'Solrock', 'Barboach', 'Whiscash', 'Corphish',\n",
              "       'Crawdaunt', 'Baltoy', 'Claydol', 'Lileep', 'Cradily', 'Anorith',\n",
              "       'Armaldo', 'Feebas', 'Milotic', 'Castform', 'Kecleon', 'Shuppet',\n",
              "       'Banette', 'BanetteMega Banette', 'Duskull', 'Dusclops', 'Tropius',\n",
              "       'Chimecho', 'Absol', 'AbsolMega Absol', 'Wynaut', 'Snorunt',\n",
              "       'Glalie', 'GlalieMega Glalie', 'Spheal', 'Sealeo', 'Walrein',\n",
              "       'Clamperl', 'Huntail', 'Gorebyss', 'Relicanth', 'Luvdisc', 'Bagon',\n",
              "       'Shelgon', 'Salamence', 'SalamenceMega Salamence', 'Beldum',\n",
              "       'Metang', 'Metagross', 'MetagrossMega Metagross', 'Regirock',\n",
              "       'Regice', 'Registeel', 'Latias', 'LatiasMega Latias', 'Latios',\n",
              "       'LatiosMega Latios', 'Kyogre', 'KyogrePrimal Kyogre', 'Groudon',\n",
              "       'GroudonPrimal Groudon', 'Rayquaza', 'RayquazaMega Rayquaza',\n",
              "       'Jirachi', 'DeoxysNormal Forme', 'DeoxysAttack Forme',\n",
              "       'DeoxysDefense Forme', 'DeoxysSpeed Forme', 'Turtwig', 'Grotle',\n",
              "       'Torterra', 'Chimchar', 'Monferno', 'Infernape', 'Piplup',\n",
              "       'Prinplup', 'Empoleon', 'Starly', 'Staravia', 'Staraptor',\n",
              "       'Bidoof', 'Bibarel', 'Kricketot', 'Kricketune', 'Shinx', 'Luxio',\n",
              "       'Luxray', 'Budew', 'Roserade', 'Cranidos', 'Rampardos', 'Shieldon',\n",
              "       'Bastiodon', 'Burmy', 'WormadamPlant Cloak', 'WormadamSandy Cloak',\n",
              "       'WormadamTrash Cloak', 'Mothim', 'Combee', 'Vespiquen',\n",
              "       'Pachirisu', 'Buizel', 'Floatzel', 'Cherubi', 'Cherrim', 'Shellos',\n",
              "       'Gastrodon', 'Ambipom', 'Drifloon', 'Drifblim', 'Buneary',\n",
              "       'Lopunny', 'LopunnyMega Lopunny', 'Mismagius', 'Honchkrow',\n",
              "       'Glameow', 'Purugly', 'Chingling', 'Stunky', 'Skuntank', 'Bronzor',\n",
              "       'Bronzong', 'Bonsly', 'Mime Jr.', 'Happiny', 'Chatot', 'Spiritomb',\n",
              "       'Gible', 'Gabite', 'Garchomp', 'GarchompMega Garchomp', 'Munchlax',\n",
              "       'Riolu', 'Lucario', 'LucarioMega Lucario', 'Hippopotas',\n",
              "       'Hippowdon', 'Skorupi', 'Drapion', 'Croagunk', 'Toxicroak',\n",
              "       'Carnivine', 'Finneon', 'Lumineon', 'Mantyke', 'Snover',\n",
              "       'Abomasnow', 'AbomasnowMega Abomasnow', 'Weavile', 'Magnezone',\n",
              "       'Lickilicky', 'Rhyperior', 'Tangrowth', 'Electivire', 'Magmortar',\n",
              "       'Togekiss', 'Yanmega', 'Leafeon', 'Glaceon', 'Gliscor',\n",
              "       'Mamoswine', 'Porygon-Z', 'Gallade', 'GalladeMega Gallade',\n",
              "       'Probopass', 'Dusknoir', 'Froslass', 'Rotom', 'RotomHeat Rotom',\n",
              "       'RotomWash Rotom', 'RotomFrost Rotom', 'RotomFan Rotom',\n",
              "       'RotomMow Rotom', 'Uxie', 'Mesprit', 'Azelf', 'Dialga', 'Palkia',\n",
              "       'Heatran', 'Regigigas', 'GiratinaAltered Forme',\n",
              "       'GiratinaOrigin Forme', 'Cresselia', 'Phione', 'Manaphy',\n",
              "       'Darkrai', 'ShayminLand Forme', 'ShayminSky Forme', 'Arceus',\n",
              "       'Victini', 'Snivy', 'Servine', 'Serperior', 'Tepig', 'Pignite',\n",
              "       'Emboar', 'Oshawott', 'Dewott', 'Samurott', 'Patrat', 'Watchog',\n",
              "       'Lillipup', 'Herdier', 'Stoutland', 'Purrloin', 'Liepard',\n",
              "       'Pansage', 'Simisage', 'Pansear', 'Simisear', 'Panpour',\n",
              "       'Simipour', 'Munna', 'Musharna', 'Pidove', 'Tranquill', 'Unfezant',\n",
              "       'Blitzle', 'Zebstrika', 'Roggenrola', 'Boldore', 'Gigalith',\n",
              "       'Woobat', 'Swoobat', 'Drilbur', 'Excadrill', 'Audino',\n",
              "       'AudinoMega Audino', 'Timburr', 'Gurdurr', 'Conkeldurr', 'Tympole',\n",
              "       'Palpitoad', 'Seismitoad', 'Throh', 'Sawk', 'Sewaddle', 'Swadloon',\n",
              "       'Leavanny', 'Venipede', 'Whirlipede', 'Scolipede', 'Cottonee',\n",
              "       'Whimsicott', 'Petilil', 'Lilligant', 'Basculin', 'Sandile',\n",
              "       'Krokorok', 'Krookodile', 'Darumaka', 'DarmanitanStandard Mode',\n",
              "       'DarmanitanZen Mode', 'Maractus', 'Dwebble', 'Crustle', 'Scraggy',\n",
              "       'Scrafty', 'Sigilyph', 'Yamask', 'Cofagrigus', 'Tirtouga',\n",
              "       'Carracosta', 'Archen', 'Archeops', 'Trubbish', 'Garbodor',\n",
              "       'Zorua', 'Zoroark', 'Minccino', 'Cinccino', 'Gothita', 'Gothorita',\n",
              "       'Gothitelle', 'Solosis', 'Duosion', 'Reuniclus', 'Ducklett',\n",
              "       'Swanna', 'Vanillite', 'Vanillish', 'Vanilluxe', 'Deerling',\n",
              "       'Sawsbuck', 'Emolga', 'Karrablast', 'Escavalier', 'Foongus',\n",
              "       'Amoonguss', 'Frillish', 'Jellicent', 'Alomomola', 'Joltik',\n",
              "       'Galvantula', 'Ferroseed', 'Ferrothorn', 'Klink', 'Klang',\n",
              "       'Klinklang', 'Tynamo', 'Eelektrik', 'Eelektross', 'Elgyem',\n",
              "       'Beheeyem', 'Litwick', 'Lampent', 'Chandelure', 'Axew', 'Fraxure',\n",
              "       'Haxorus', 'Cubchoo', 'Beartic', 'Cryogonal', 'Shelmet',\n",
              "       'Accelgor', 'Stunfisk', 'Mienfoo', 'Mienshao', 'Druddigon',\n",
              "       'Golett', 'Golurk', 'Pawniard', 'Bisharp', 'Bouffalant', 'Rufflet',\n",
              "       'Braviary', 'Vullaby', 'Mandibuzz', 'Heatmor', 'Durant', 'Deino',\n",
              "       'Zweilous', 'Hydreigon', 'Larvesta', 'Volcarona', 'Cobalion',\n",
              "       'Terrakion', 'Virizion', 'TornadusIncarnate Forme',\n",
              "       'TornadusTherian Forme', 'ThundurusIncarnate Forme',\n",
              "       'ThundurusTherian Forme', 'Reshiram', 'Zekrom',\n",
              "       'LandorusIncarnate Forme', 'LandorusTherian Forme', 'Kyurem',\n",
              "       'KyuremBlack Kyurem', 'KyuremWhite Kyurem', 'KeldeoOrdinary Forme',\n",
              "       'KeldeoResolute Forme', 'MeloettaAria Forme',\n",
              "       'MeloettaPirouette Forme', 'Genesect', 'Chespin', 'Quilladin',\n",
              "       'Chesnaught', 'Fennekin', 'Braixen', 'Delphox', 'Froakie',\n",
              "       'Frogadier', 'Greninja', 'Bunnelby', 'Diggersby', 'Fletchling',\n",
              "       'Fletchinder', 'Talonflame', 'Scatterbug', 'Spewpa', 'Vivillon',\n",
              "       'Litleo', 'Pyroar', 'Flabébé', 'Floette', 'Florges', 'Skiddo',\n",
              "       'Gogoat', 'Pancham', 'Pangoro', 'Furfrou', 'Espurr',\n",
              "       'MeowsticMale', 'MeowsticFemale', 'Honedge', 'Doublade',\n",
              "       'AegislashBlade Forme', 'AegislashShield Forme', 'Spritzee',\n",
              "       'Aromatisse', 'Swirlix', 'Slurpuff', 'Inkay', 'Malamar', 'Binacle',\n",
              "       'Barbaracle', 'Skrelp', 'Dragalge', 'Clauncher', 'Clawitzer',\n",
              "       'Helioptile', 'Heliolisk', 'Tyrunt', 'Tyrantrum', 'Amaura',\n",
              "       'Aurorus', 'Sylveon', 'Hawlucha', 'Dedenne', 'Carbink', 'Goomy',\n",
              "       'Sliggoo', 'Goodra', 'Klefki', 'Phantump', 'Trevenant',\n",
              "       'PumpkabooAverage Size', 'PumpkabooSmall Size',\n",
              "       'PumpkabooLarge Size', 'PumpkabooSuper Size',\n",
              "       'GourgeistAverage Size', 'GourgeistSmall Size',\n",
              "       'GourgeistLarge Size', 'GourgeistSuper Size', 'Bergmite',\n",
              "       'Avalugg', 'Noibat', 'Noivern', 'Xerneas', 'Yveltal',\n",
              "       'Zygarde50% Forme', 'Diancie', 'DiancieMega Diancie',\n",
              "       'HoopaHoopa Confined', 'HoopaHoopa Unbound', 'Volcanion'],\n",
              "      dtype=object)"
            ]
          },
          "metadata": {},
          "execution_count": 10
        }
      ]
    },
    {
      "cell_type": "code",
      "source": [
        "numpyArray2 = dF[\"Speed\"] #Numpy kütüphanesi kullanılarak Speed sütunundaki veriler dizi haline getirildi.\n",
        "numpyArray2 = np.array(numpyArray2)\n",
        "numpyArray2"
      ],
      "metadata": {
        "id": "eaT5yvjQ8IIE",
        "colab": {
          "base_uri": "https://localhost:8080/"
        },
        "outputId": "143ca560-4dad-48d5-a106-daff3d2bd2ec"
      },
      "execution_count": null,
      "outputs": [
        {
          "output_type": "execute_result",
          "data": {
            "text/plain": [
              "array([ 45,  60,  80,  80,  65,  80, 100, 100, 100,  43,  58,  78,  78,\n",
              "        45,  30,  70,  50,  35,  75, 145,  56,  71, 101, 121,  72,  97,\n",
              "        70, 100,  55,  80,  90, 110,  40,  65,  41,  56,  76,  50,  65,\n",
              "        85,  35,  60,  65, 100,  20,  45,  55,  90,  30,  40,  50,  25,\n",
              "        30,  45,  90,  95, 120,  90, 115,  55,  85,  70,  95,  60,  95,\n",
              "        90,  90,  70,  90, 105, 120, 150,  35,  45,  55,  40,  55,  70,\n",
              "        70, 100,  20,  35,  45,  90, 105,  15,  30,  30,  45,  70,  60,\n",
              "        75, 100,  45,  70,  25,  50,  40,  70,  80,  95, 110, 130,  70,\n",
              "        42,  67,  50,  75, 100, 140,  40,  55,  35,  45,  87,  76,  30,\n",
              "        35,  60,  25,  40,  50,  60,  90, 100,  60,  85,  63,  68,  85,\n",
              "       115,  90, 105,  95, 105,  93,  85, 105, 110,  80,  81,  81,  60,\n",
              "        48,  55,  65, 130,  65,  40,  35,  55,  55,  80, 130, 150,  30,\n",
              "        85, 100,  90,  50,  70,  80, 130, 130, 140, 100,  45,  60,  80,\n",
              "        65,  80, 100,  43,  58,  78,  20,  90,  50,  70,  55,  85,  30,\n",
              "        40, 130,  67,  67,  60,  15,  15,  20,  40,  70,  95,  35,  45,\n",
              "        55,  45,  50,  40,  50,  30,  70,  50,  80, 110,  85,  30,  30,\n",
              "        95,  15,  35, 110,  65,  91,  30,  85,  48,  33,  85,  15,  40,\n",
              "        45,  85,  30,  30,  30,  45,  85,  65,  75,   5,  85,  75, 115,\n",
              "        40,  55,  20,  30,  50,  50,  35,  65,  45,  75,  70,  70,  65,\n",
              "        95, 115,  85,  40,  50,  60,  85,  75,  35,  70,  65,  95,  83,\n",
              "       100,  55, 115, 100,  85,  41,  51,  61,  71, 110,  90, 100,  70,\n",
              "        95, 120, 145,  45,  55,  80, 100,  40,  50,  60,  70,  35,  70,\n",
              "        60, 100,  20,  15,  65,  15,  65,  30,  50,  70,  30,  60,  80,\n",
              "        85, 125,  85,  65,  40,  50,  80, 100,  65,  60,  35,  70,  30,\n",
              "        90, 100,  40, 160,  40,  28,  48,  68,  25,  50,  20,  30,  50,\n",
              "        70,  50,  20,  50,  50,  30,  40,  50,  50,  60,  80, 100,  65,\n",
              "       105, 135,  95,  95,  85,  85,  65,  40,  55,  65,  95, 105,  60,\n",
              "        60,  35,  40,  20,  20,  60,  80,  60,  10,  70, 100,  35,  55,\n",
              "        50,  80,  80,  90,  65,  70,  70,  60,  60,  35,  55,  55,  75,\n",
              "        23,  43,  75,  45,  80,  81,  70,  40,  45,  65,  75,  25,  25,\n",
              "        51,  65,  75, 115,  23,  50,  80, 100,  25,  45,  65,  32,  52,\n",
              "        52,  55,  97,  50,  50, 100, 120,  30,  50,  70, 110,  50,  50,\n",
              "        50, 110, 110, 110, 110,  90,  90,  90,  90,  95, 115, 100, 150,\n",
              "       150,  90, 180,  31,  36,  56,  61,  81, 108,  40,  50,  60,  60,\n",
              "        80, 100,  31,  71,  25,  65,  45,  60,  70,  55,  90,  58,  58,\n",
              "        30,  30,  36,  36,  36,  36,  66,  70,  40,  95,  85, 115,  35,\n",
              "        85,  34,  39, 115,  70,  80,  85, 105, 135, 105,  71,  85, 112,\n",
              "        45,  74,  84,  23,  33,  10,  60,  30,  91,  35,  42,  82, 102,\n",
              "        92,   5,  60,  90, 112,  32,  47,  65,  95,  50,  85,  46,  66,\n",
              "        91,  50,  40,  60,  30, 125,  60,  50,  40,  50,  95,  83,  80,\n",
              "        95,  95,  65,  95,  80,  90,  80, 110,  40,  45, 110,  91,  86,\n",
              "        86,  86,  86,  86,  95,  80, 115,  90, 100,  77, 100,  90,  90,\n",
              "        85,  80, 100, 125, 100, 127, 120, 100,  63,  83, 113,  45,  55,\n",
              "        65,  45,  60,  70,  42,  77,  55,  60,  80,  66, 106,  64, 101,\n",
              "        64, 101,  64, 101,  24,  29,  43,  65,  93,  76, 116,  15,  20,\n",
              "        25,  72, 114,  68,  88,  50,  50,  35,  40,  45,  64,  69,  74,\n",
              "        45,  85,  42,  42,  92,  57,  47, 112,  66, 116,  30,  90,  98,\n",
              "        65,  74,  92,  50,  95,  55,  60,  55,  45,  48,  58,  97,  30,\n",
              "        30,  22,  32,  70, 110,  65,  75,  65, 105,  75, 115,  45,  55,\n",
              "        65,  20,  30,  30,  55,  98,  44,  59,  79,  75,  95, 103,  60,\n",
              "        20,  15,  30,  40,  60,  65,  65, 108,  10,  20,  30,  50,  90,\n",
              "        60,  40,  50,  30,  40,  20,  55,  80,  57,  67,  97,  40,  50,\n",
              "       105,  25, 145,  32,  65, 105,  48,  35,  55,  60,  70,  55,  60,\n",
              "        80,  60,  80,  65, 109,  38,  58,  98,  60, 100, 108, 108, 108,\n",
              "       111, 121, 111, 101,  90,  90, 101,  91,  95,  95,  95, 108, 108,\n",
              "        90, 128,  99,  38,  57,  64,  60,  73, 104,  71,  97, 122,  57,\n",
              "        78,  62,  84, 126,  35,  29,  89,  72, 106,  42,  52,  75,  52,\n",
              "        68,  43,  58, 102,  68, 104, 104,  28,  35,  60,  60,  23,  29,\n",
              "        49,  72,  45,  73,  50,  68,  30,  44,  44,  59,  70, 109,  48,\n",
              "        71,  46,  58,  60, 118, 101,  50,  40,  60,  80,  75,  38,  56,\n",
              "        51,  56,  46,  41,  84,  99,  69,  54,  28,  28,  55, 123,  99,\n",
              "        99,  95,  50, 110,  70,  80,  70])"
            ]
          },
          "metadata": {},
          "execution_count": 49
        }
      ]
    },
    {
      "cell_type": "code",
      "source": [
        "#5.sorgu\n",
        "benimFigure = plt.figure() #Oluşturduğumuz dizilerden matplotlib kütüphanesi kullanarak kendi figürümüzle isimlere göre hızları veren grafik oluşturuldu.\n",
        "figureAxes = benimFigure.add_axes([2,2,2.8,2.8]) #Grafiğin boyutlandırma işlemi yapıldı.\n",
        "figureAxes.plot(numpyArray,numpyArray2,\"p\")\n",
        "figureAxes.set_xlabel(\"İsimler\")\n",
        "figureAxes.set_ylabel(\"Hız\")\n",
        "figureAxes.set_title(\"Kahramanların hız Grafiği\")"
      ],
      "metadata": {
        "id": "wa2YD2sK9sRJ",
        "colab": {
          "base_uri": "https://localhost:8080/",
          "height": 770
        },
        "outputId": "2a385d5c-4d68-4dca-d76e-98abaafdfa26"
      },
      "execution_count": null,
      "outputs": [
        {
          "output_type": "execute_result",
          "data": {
            "text/plain": [
              "Text(0.5, 1.0, 'Kahramanların hız Grafiği')"
            ]
          },
          "metadata": {},
          "execution_count": 50
        },
        {
          "output_type": "display_data",
          "data": {
            "text/plain": [
              "<Figure size 432x288 with 1 Axes>"
            ],
            "image/png": "[encoded data removed]"
          },
          "metadata": {
            "needs_background": "light"
          }
        }
      ]
    },
    {
      "cell_type": "code",
      "source": [
        "#6.Sorgu\n",
        "numpyArray3 = dF[\"Attack\"]\n",
        "numpyArray3 = np.array(numpyArray3)\n",
        "numpyArray3\n",
        "plt.subplot(1,3,1) #Subplot fonksiyonunu kullanarak grafikler konumlandırıldı.\n",
        "#İlk parametre olarak kaç satır olacağı,ikinci parametre ise kaç grafik olacağı\n",
        "#ve üçüncü parametre ise işlem yapacağımız grafiği belirler.\n",
        "plt.plot(numpyArray,numpyArray2,numpyArray3,\"r.-\")\n",
        "plt.subplot(1,3,2)\n",
        "plt.plot(numpyArray,numpyArray2,numpyArray3,\"g--\")\n",
        "plt.tight_layout()\n",
        "plt.subplot(1,3,3)\n",
        "plt.plot(numpyArray,numpyArray2,numpyArray3,\"y.-\")"
      ],
      "metadata": {
        "colab": {
          "base_uri": "https://localhost:8080/",
          "height": 332
        },
        "id": "RIhDu6Ts-edS",
        "outputId": "a0963fe4-7d49-4a87-97e4-7a107afb4df3"
      },
      "execution_count": null,
      "outputs": [
        {
          "output_type": "execute_result",
          "data": {
            "text/plain": [
              "[<matplotlib.lines.Line2D at 0x7f921f363b50>,\n",
              " <matplotlib.lines.Line2D at 0x7f921f30f990>]"
            ]
          },
          "metadata": {},
          "execution_count": 51
        },
        {
          "output_type": "display_data",
          "data": {
            "text/plain": [
              "<Figure size 432x288 with 3 Axes>"
            ],
            "image/png": "[encoded data removed]"
          },
          "metadata": {
            "needs_background": "light"
          }
        }
      ]
    },
    {
      "cell_type": "code",
      "source": [
        "#7.Sorgu\n",
        "figure2=plt.figure() # İç içe grafik oluşturuldu.\n",
        "eksen1=figure2.add_axes([0.1,0.1,0.7,0.7])\n",
        "eksen2=figure2.add_axes([0.2,0.4,0.3,0.3])\n",
        "\n",
        "eksen1.plot(numpyArray,numpyArray2,\"b\")\n",
        "eksen1.set_xlabel(\"İSİMLER\")\n",
        "eksen1.set_ylabel(\"HIZ\")\n",
        "eksen1.set_title(\" ANA GRAFİK BAŞLIĞI\")\n",
        "\n",
        "eksen2.plot(numpyArray2,numpyArray,\"r\")\n",
        "eksen2.set_xlabel(\"HIZ\")\n",
        "eksen2.set_ylabel(\"İSİMLER\")\n",
        "eksen2.set_title(\" KÜÇÜK  GRAFİK BAŞLIĞI\")"
      ],
      "metadata": {
        "colab": {
          "base_uri": "https://localhost:8080/",
          "height": 298
        },
        "id": "vPFpaRtkxxi4",
        "outputId": "ee859ef8-19b6-4ccc-f848-68f7d685f393"
      },
      "execution_count": null,
      "outputs": [
        {
          "output_type": "execute_result",
          "data": {
            "text/plain": [
              "Text(0.5, 1.0, ' KÜÇÜK  GRAFİK BAŞLIĞI')"
            ]
          },
          "metadata": {},
          "execution_count": 52
        },
        {
          "output_type": "display_data",
          "data": {
            "text/plain": [
              "<Figure size 432x288 with 2 Axes>"
            ],
            "image/png": "[encoded data removed]"
          },
          "metadata": {
            "needs_background": "light"
          }
        }
      ]
    },
    {
      "cell_type": "code",
      "source": [
        "#8.Sorgu\n",
        "dF.loc[0] #loc fonksiyonu içerisindeki değer sütun indeksini belirler ve indeksin tüm özelliklerini listeler."
      ],
      "metadata": {
        "colab": {
          "base_uri": "https://localhost:8080/"
        },
        "id": "EDL2Gjfd1f1w",
        "outputId": "d7b95b7b-1bcf-4fff-df81-cd3d1de20208"
      },
      "execution_count": null,
      "outputs": [
        {
          "output_type": "execute_result",
          "data": {
            "text/plain": [
              "#                     1\n",
              "Name          Bulbasaur\n",
              "Type 1            Grass\n",
              "Type 2           Poison\n",
              "Total               318\n",
              "HP                   45\n",
              "Attack               49\n",
              "Defense              49\n",
              "Sp. Atk              65\n",
              "Sp. Def              65\n",
              "Speed                45\n",
              "Generation            1\n",
              "Legendary         False\n",
              "Name: 0, dtype: object"
            ]
          },
          "metadata": {},
          "execution_count": 53
        }
      ]
    },
    {
      "cell_type": "code",
      "source": [
        "#9.Sorgu\n",
        "figure3 = plt.figure()\n",
        "## dpi=150\n",
        "yeniEksen1 = figure3.add_axes([0.1,0.1,0.9,0.9])\n",
        "yeniEksen1.plot(numpyArray2,numpyArray2**2,label=\"Numpy Array**2\")\n",
        "yeniEksen1.plot(numpyArray2,numpyArray2**3,label=\"Numpy Array**3\")\n",
        "\n",
        "yeniEksen1.legend()#Birden fazla eğriyi bir grafikte çizerken eğrilerin ne olduğunu söyleyen bir gösterge (legend) kullanılır\n",
        "\n"
      ],
      "metadata": {
        "colab": {
          "base_uri": "https://localhost:8080/",
          "height": 335
        },
        "id": "vfcbjvrG12VB",
        "outputId": "3798d186-6452-4f54-9fe4-7eae8feb16d6"
      },
      "execution_count": null,
      "outputs": [
        {
          "output_type": "execute_result",
          "data": {
            "text/plain": [
              "<matplotlib.legend.Legend at 0x7f921d2c6a10>"
            ]
          },
          "metadata": {},
          "execution_count": 54
        },
        {
          "output_type": "display_data",
          "data": {
            "text/plain": [
              "<Figure size 432x288 with 1 Axes>"
            ],
            "image/png": "[encoded data removed]"
          },
          "metadata": {
            "needs_background": "light"
          }
        }
      ]
    },
    {
      "cell_type": "code",
      "source": [
        "#10.Sorgu\n",
        "figure3.savefig(\"benimfigür.png\",dpi=200)#Sorgudaki görseli png uzantılı dosya şeklinde kaydeder."
      ],
      "metadata": {
        "id": "GD_669jN2tbm"
      },
      "execution_count": null,
      "outputs": []
    },
    {
      "cell_type": "code",
      "source": [
        "#11.Sorgu\n",
        "plt.hist(numpyArray)#Histogram grafiği çizen foksiyon kullanıldı."
      ],
      "metadata": {
        "colab": {
          "base_uri": "https://localhost:8080/",
          "height": 334
        },
        "id": "eTWhX1k_2_DZ",
        "outputId": "ddf645c0-394f-4e2a-a209-febbbcd329fe"
      },
      "execution_count": null,
      "outputs": [
        {
          "output_type": "execute_result",
          "data": {
            "text/plain": [
              "(array([80., 80., 80., 80., 80., 80., 80., 80., 80., 80.]),\n",
              " array([  0. ,  79.9, 159.8, 239.7, 319.6, 399.5, 479.4, 559.3, 639.2,\n",
              "        719.1, 799. ]),\n",
              " <a list of 10 Patch objects>)"
            ]
          },
          "metadata": {},
          "execution_count": 56
        },
        {
          "output_type": "display_data",
          "data": {
            "text/plain": [
              "<Figure size 432x288 with 1 Axes>"
            ],
            "image/png": "[encoded data removed]"
          },
          "metadata": {
            "needs_background": "light"
          }
        }
      ]
    },
    {
      "cell_type": "code",
      "source": [
        "#12.sorgu\n",
        "plt.boxplot(numpyArray3)#Kutu grafiği çizmek için boxplot fonksiyonu kullanıldı."
      ],
      "metadata": {
        "colab": {
          "base_uri": "https://localhost:8080/",
          "height": 404
        },
        "id": "uVVkCT_o3NDw",
        "outputId": "3d8a9070-70be-4dc8-9b17-86f46a40a712"
      },
      "execution_count": null,
      "outputs": [
        {
          "output_type": "execute_result",
          "data": {
            "text/plain": [
              "{'boxes': [<matplotlib.lines.Line2D at 0x7f921c860990>],\n",
              " 'caps': [<matplotlib.lines.Line2D at 0x7f921cb10410>,\n",
              "  <matplotlib.lines.Line2D at 0x7f921cb101d0>],\n",
              " 'fliers': [<matplotlib.lines.Line2D at 0x7f921c8d58d0>],\n",
              " 'means': [],\n",
              " 'medians': [<matplotlib.lines.Line2D at 0x7f921c8d5c50>],\n",
              " 'whiskers': [<matplotlib.lines.Line2D at 0x7f921c900bd0>,\n",
              "  <matplotlib.lines.Line2D at 0x7f921cb10f90>]}"
            ]
          },
          "metadata": {},
          "execution_count": 57
        },
        {
          "output_type": "display_data",
          "data": {
            "text/plain": [
              "<Figure size 432x288 with 1 Axes>"
            ],
            "image/png": "[encoded data removed]"
          },
          "metadata": {
            "needs_background": "light"
          }
        }
      ]
    }
  ]
}